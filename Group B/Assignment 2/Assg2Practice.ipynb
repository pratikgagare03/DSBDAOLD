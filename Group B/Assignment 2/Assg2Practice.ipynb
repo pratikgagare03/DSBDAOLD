{
 "cells": [
  {
   "cell_type": "code",
   "execution_count": 1,
   "id": "4a9551eb",
   "metadata": {},
   "outputs": [],
   "source": [
    "import pandas as pd"
   ]
  },
  {
   "cell_type": "code",
   "execution_count": 2,
   "id": "7d82e771",
   "metadata": {},
   "outputs": [],
   "source": [
    "data=pd.read_csv(\"airquality.csv\")"
   ]
  },
  {
   "cell_type": "code",
   "execution_count": 3,
   "id": "f3f39d8e",
   "metadata": {},
   "outputs": [],
   "source": [
    "data"
   ]
  },
  {
   "cell_type": "code",
   "execution_count": 4,
   "id": "68d4c9f6",
   "metadata": {},
   "outputs": [],
   "source": [
    "data.head()"
   ]
  },
  {
   "cell_type": "code",
   "execution_count": 5,
   "id": "434bd0ff",
   "metadata": {},
   "outputs": [],
   "source": [
    "data.head(5)"
   ]
  },
  {
   "cell_type": "code",
   "execution_count": 6,
   "id": "c51864e4",
   "metadata": {},
   "outputs": [],
   "source": [
    "data.tail()"
   ]
  },
  {
   "cell_type": "code",
   "execution_count": 7,
   "id": "c6f8227c",
   "metadata": {},
   "outputs": [],
   "source": [
    "data.isnull().sum()"
   ]
  },
  {
   "cell_type": "code",
   "execution_count": 8,
   "id": "eb9e6a25",
   "metadata": {},
   "outputs": [],
   "source": [
    "data=data.drop(\"Unnamed: 0\", axis=1)"
   ]
  },
  {
   "cell_type": "code",
   "execution_count": 9,
   "id": "648f4d33",
   "metadata": {},
   "outputs": [],
   "source": [
    "data.isnull().sum()"
   ]
  },
  {
   "cell_type": "code",
   "execution_count": 10,
   "id": "d8046ec1",
   "metadata": {},
   "outputs": [],
   "source": [
    "data[\"Humidity\"].fillna(data[\"Humidity\"].mode()[0], inplace=True)\n",
    "data[\"Solar.R\"].fillna(data[\"Solar.R\"].mean(), inplace=True)\n",
    "data[\"Ozone\"].fillna(data[\"Ozone\"].mean(), inplace=True)\n",
    "data"
   ]
  },
  {
   "cell_type": "code",
   "execution_count": 11,
   "id": "24ca6b3e",
   "metadata": {},
   "outputs": [],
   "source": [
    "data.isnull().sum()"
   ]
  },
  {
   "cell_type": "code",
   "execution_count": 12,
   "id": "946a66fe",
   "metadata": {},
   "outputs": [],
   "source": [
    "data.dtypes"
   ]
  },
  {
   "cell_type": "code",
   "execution_count": 13,
   "id": "08b21ddd",
   "metadata": {},
   "outputs": [],
   "source": [
    "from sklearn.preprocessing import LabelEncoder"
   ]
  },
  {
   "cell_type": "code",
   "execution_count": 14,
   "id": "391992fa",
   "metadata": {},
   "outputs": [],
   "source": [
    "lc=LabelEncoder()"
   ]
  },
  {
   "cell_type": "code",
   "execution_count": 15,
   "id": "8d3d2650",
   "metadata": {},
   "outputs": [],
   "source": [
    "data[\"Humidity\"]=lc.fit_transform(data[\"Humidity\"])"
   ]
  },
  {
   "cell_type": "code",
   "execution_count": 16,
   "id": "a47bc2dd",
   "metadata": {
    "scrolled": true
   },
   "outputs": [],
   "source": [
    "data[\"Humidity\"].unique()"
   ]
  },
  {
   "cell_type": "code",
   "execution_count": 17,
   "id": "759628b0",
   "metadata": {},
   "outputs": [],
   "source": [
    "data.shape"
   ]
  },
  {
   "cell_type": "code",
   "execution_count": 18,
   "id": "c334c270",
   "metadata": {},
   "outputs": [],
   "source": [
    "df1 = data.iloc[[1,2,3,6,12,28],:]\n",
    "df2 = data.iloc[[70,81,95,105,123,137,149],:]"
   ]
  },
  {
   "cell_type": "code",
   "execution_count": 19,
   "id": "2c0e7a20",
   "metadata": {},
   "outputs": [],
   "source": [
    "df1.shape"
   ]
  },
  {
   "cell_type": "code",
   "execution_count": 20,
   "id": "74b263f7",
   "metadata": {},
   "outputs": [],
   "source": [
    "df2.shape"
   ]
  },
  {
   "cell_type": "code",
   "execution_count": 21,
   "id": "cf0bd502",
   "metadata": {},
   "outputs": [],
   "source": [
    "df12=pd.concat([df1, df2], axis=0)\n",
    "df12"
   ]
  },
  {
   "cell_type": "code",
   "execution_count": 22,
   "id": "8191b222",
   "metadata": {},
   "outputs": [],
   "source": [
    "df12.shape"
   ]
  },
  {
   "cell_type": "code",
   "execution_count": 23,
   "id": "0c27ad11",
   "metadata": {},
   "outputs": [],
   "source": [
    "cor=data.corr()"
   ]
  },
  {
   "cell_type": "code",
   "execution_count": 24,
   "id": "0d29d77a",
   "metadata": {},
   "outputs": [],
   "source": [
    "import seaborn as sns"
   ]
  },
  {
   "cell_type": "code",
   "execution_count": 25,
   "id": "a37b9c12",
   "metadata": {},
   "outputs": [],
   "source": [
    "sns.heatmap(cor,annot=True)"
   ]
  },
  {
   "cell_type": "code",
   "execution_count": 26,
   "id": "d6b15991",
   "metadata": {},
   "outputs": [],
   "source": [
    "x=data[[\"Ozone\"]]\n",
    "y=data[[\"Temp\"]]"
   ]
  },
  {
   "cell_type": "code",
   "execution_count": 27,
   "id": "28fe5a7f",
   "metadata": {},
   "outputs": [],
   "source": [
    "from sklearn.model_selection import train_test_split\n",
    "xtrain, xtest, ytrain, ytest =train_test_split(x, y, test_size=0.2)"
   ]
  },
  {
   "cell_type": "code",
   "execution_count": 28,
   "id": "1c80a894",
   "metadata": {},
   "outputs": [],
   "source": [
    "from sklearn.linear_model import LinearRegression"
   ]
  },
  {
   "cell_type": "code",
   "execution_count": 29,
   "id": "72eb0914",
   "metadata": {},
   "outputs": [],
   "source": [
    "lr= LinearRegression()"
   ]
  },
  {
   "cell_type": "code",
   "execution_count": 30,
   "id": "b6b92e05",
   "metadata": {},
   "outputs": [],
   "source": [
    "model=lr.fit(xtrain, ytrain)"
   ]
  },
  {
   "cell_type": "code",
   "execution_count": 31,
   "id": "c587e096",
   "metadata": {},
   "outputs": [],
   "source": [
    "ypred=model.predict(xtest)"
   ]
  },
  {
   "cell_type": "code",
   "execution_count": 32,
   "id": "7e34f521",
   "metadata": {},
   "outputs": [],
   "source": [
    "ypred"
   ]
  },
  {
   "cell_type": "code",
   "execution_count": 33,
   "id": "e5e623c7",
   "metadata": {},
   "outputs": [],
   "source": [
    "import numpy as np\n",
    "ytest_array = np.array(ytest)\n"
   ]
  },
  {
   "cell_type": "code",
   "execution_count": null,
   "id": "844eb3fd",
   "metadata": {},
   "outputs": [],
   "source": []
  },
  {
   "cell_type": "code",
   "execution_count": 34,
   "id": "893b7106",
   "metadata": {},
   "outputs": [],
   "source": [
    "for i, j in zip(ypred, ytest_array):\n",
    "    print(i, j)"
   ]
  },
  {
   "cell_type": "code",
   "execution_count": 35,
   "id": "498ac61a",
   "metadata": {},
   "outputs": [],
   "source": [
    "import matplotlib.pyplot as plt"
   ]
  },
  {
   "cell_type": "code",
   "execution_count": 36,
   "id": "00f9dd13",
   "metadata": {},
   "outputs": [],
   "source": [
    "plt.scatter(xtest, ytest, color=\"red\")\n",
    "plt.plot(xtest, lr.predict(xtest), color=\"blue\")\n",
    "plt.xlabel(\"Ozone\")\n",
    "plt.ylabel(\"Temp\")\n",
    "plt.title(\"Ozone vs Temp\")\n",
    "plt.show()"
   ]
  },
  {
   "cell_type": "code",
   "execution_count": 37,
   "id": "27553018",
   "metadata": {},
   "outputs": [],
   "source": [
    "from sklearn.metrics import mean_absolute_error,mean_squared_error,r2_score\n",
    "import numpy as np"
   ]
  },
  {
   "cell_type": "code",
   "execution_count": 38,
   "id": "772c0065",
   "metadata": {},
   "outputs": [],
   "source": [
    "MSE = mean_squared_error(ytest,ypred)\n",
    "MAE = mean_absolute_error(ytest,ypred)\n",
    "r2_score = r2_score(ytest,ypred)\n",
    "RMSE = np.sqrt(MSE)\n"
   ]
  },
  {
   "cell_type": "code",
   "execution_count": null,
   "id": "44b8067a",
   "metadata": {},
   "outputs": [],
   "source": []
  }
 ],
 "metadata": {
  "kernelspec": {
   "display_name": "Python 3 (ipykernel)",
   "language": "python",
   "name": "python3"
  },
  "language_info": {
   "codemirror_mode": {
    "name": "ipython",
    "version": 3
   },
   "file_extension": ".py",
   "mimetype": "text/x-python",
   "name": "python",
   "nbconvert_exporter": "python",
   "pygments_lexer": "ipython3",
   "version": "3.11.3"
  }
 },
 "nbformat": 4,
 "nbformat_minor": 5
}
